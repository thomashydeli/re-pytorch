{
 "cells": [
  {
   "cell_type": "code",
   "execution_count": 1,
   "metadata": {},
   "outputs": [],
   "source": [
    "import torch\n",
    "import numpy as np\n",
    "import torchvision\n",
    "from torch import nn\n",
    "from PIL import Image\n",
    "from torchinfo import summary\n",
    "import matplotlib.pyplot as plt\n",
    "from torchvision import transforms\n",
    "from modularized.engine import vggTrainingInfer, build_engine\n",
    "from modularized.data_processes import get_data, create_dataloaders\n",
    "from transferlearn import fine_tune, pred_and_plot_image"
   ]
  },
  {
   "cell_type": "code",
   "execution_count": null,
   "metadata": {},
   "outputs": [],
   "source": [
    "model=torchvision.models.inception_v3(pretrained=True)\n",
    "# getting a summary of our model with torchinfo.summary()\n",
    "summary(\n",
    "    model, \n",
    "    input_size=(1,3,224,224),\n",
    "    col_names=['input_size', 'output_size', 'num_params', 'trainable'],\n",
    "    col_width=20,\n",
    "    row_settings=['var_names']\n",
    ")"
   ]
  },
  {
   "cell_type": "code",
   "execution_count": 2,
   "metadata": {},
   "outputs": [
    {
     "name": "stderr",
     "output_type": "stream",
     "text": [
      "/Users/daweili/Desktop/learning/AIML/repos/re-pytorch/env/lib/python3.9/site-packages/torchvision/models/_utils.py:208: UserWarning: The parameter 'pretrained' is deprecated since 0.13 and may be removed in the future, please use 'weights' instead.\n",
      "  warnings.warn(\n",
      "/Users/daweili/Desktop/learning/AIML/repos/re-pytorch/env/lib/python3.9/site-packages/torchvision/models/_utils.py:223: UserWarning: Arguments other than a weight enum or `None` for 'weights' are deprecated since 0.13 and may be removed in the future. The current behavior is equivalent to passing `weights=Inception_V3_Weights.IMAGENET1K_V1`. You can also use `weights=Inception_V3_Weights.DEFAULT` to get the most up-to-date weights.\n",
      "  warnings.warn(msg)\n"
     ]
    },
    {
     "name": "stdout",
     "output_type": "stream",
     "text": [
      "performing training of the model\n"
     ]
    },
    {
     "data": {
      "application/vnd.jupyter.widget-view+json": {
       "model_id": "e7bdedbffa5549d88a3252a05b40e7d9",
       "version_major": 2,
       "version_minor": 0
      },
      "text/plain": [
       "  0%|          | 0/2 [00:00<?, ?it/s]"
      ]
     },
     "metadata": {},
     "output_type": "display_data"
    },
    {
     "name": "stdout",
     "output_type": "stream",
     "text": [
      "Epoch: 0 | train loss: 1.0790969133377075 | train_acc: 0.4125\n",
      "test loss: 0.9991969806807381 | test_acc: 0.5747180451127819\n",
      "Epoch: 1 | train loss: 0.9419697443644206 | train_acc: 0.6\n",
      "test loss: 0.8709180269922528 | test_acc: 0.8228383458646616\n"
     ]
    }
   ],
   "source": [
    "finetuned_model, eval_data=fine_tune(\n",
    "    model=torchvision.models.inception_v3(pretrained=True),\n",
    "    weights=torchvision.models.Inception_V3_Weights.IMAGENET1K_V1,\n",
    "    loss_fn=torch.nn.CrossEntropyLoss(),\n",
    "    optimizer=torch.optim.Adam,\n",
    "    last_layer=2048,\n",
    "    batch_size=32,\n",
    "    num_workers=2,\n",
    "    epochs=2,\n",
    "    learning_rate=5e-4,\n",
    "    data_path='data/pizza_steak_sushi',\n",
    "    data_url='https://github.com/mrdbourke/pytorch-deep-learning/raw/main/data/pizza_steak_sushi_20_percent.zip',\n",
    "    unzip=True,\n",
    "    device='cpu',\n",
    ")"
   ]
  },
  {
   "cell_type": "code",
   "execution_count": null,
   "metadata": {},
   "outputs": [],
   "source": []
  }
 ],
 "metadata": {
  "kernelspec": {
   "display_name": "env",
   "language": "python",
   "name": "python3"
  },
  "language_info": {
   "codemirror_mode": {
    "name": "ipython",
    "version": 3
   },
   "file_extension": ".py",
   "mimetype": "text/x-python",
   "name": "python",
   "nbconvert_exporter": "python",
   "pygments_lexer": "ipython3",
   "version": "3.9.12"
  },
  "orig_nbformat": 4
 },
 "nbformat": 4,
 "nbformat_minor": 2
}
